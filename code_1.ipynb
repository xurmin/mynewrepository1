{
 "cells": [
  {
   "cell_type": "code",
   "execution_count": 2,
   "metadata": {},
   "outputs": [
    {
     "name": "stdout",
     "output_type": "stream",
     "text": [
      "Enter x1: 3\n",
      "Enter y1: 6\n",
      "Enter x2: 9\n",
      "Enter y2: 20\n",
      "The distance between (3, 6) and (9, 20) is equal to 15\n"
     ]
    }
   ],
   "source": [
    "x1 = eval (input(\"Enter x1: \"))\n",
    "y1 = eval (input(\"Enter y1: \"))\n",
    "x2 = eval (input(\"Enter x2: \"))\n",
    "y2 = eval (input(\"Enter y2: \"))\n",
    "\n",
    "distance = int((((x1 - x2) ** 2) + ((y1 - y2) ** 2)) ** 0.5)\n",
    "\n",
    "print(\"The distance between\", (x1 , y1), \"and\", (x2, y2), \"is equal to\", distance)"
   ]
  },
  {
   "cell_type": "code",
   "execution_count": null,
   "metadata": {},
   "outputs": [],
   "source": []
  }
 ],
 "metadata": {
  "kernelspec": {
   "display_name": "Python 3",
   "language": "python",
   "name": "python3"
  },
  "language_info": {
   "codemirror_mode": {
    "name": "ipython",
    "version": 3
   },
   "file_extension": ".py",
   "mimetype": "text/x-python",
   "name": "python",
   "nbconvert_exporter": "python",
   "pygments_lexer": "ipython3",
   "version": "3.7.4"
  }
 },
 "nbformat": 4,
 "nbformat_minor": 2
}
